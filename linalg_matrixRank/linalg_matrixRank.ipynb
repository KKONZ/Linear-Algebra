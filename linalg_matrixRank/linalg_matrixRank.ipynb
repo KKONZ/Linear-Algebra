{
 "cells": [
  {
   "cell_type": "code",
   "execution_count": 1,
   "metadata": {},
   "outputs": [],
   "source": [
    "import numpy as np\n",
    "import matplotlib.pyplot as plt\n",
    "import math"
   ]
  },
  {
   "cell_type": "markdown",
   "metadata": {},
   "source": [
    "\n",
    "---\n",
    "# VIDEO: Computing rank: theory and practice\n",
    "---\n"
   ]
  },
  {
   "cell_type": "code",
   "execution_count": 5,
   "metadata": {},
   "outputs": [
    {
     "name": "stdout",
     "output_type": "stream",
     "text": [
      "rank=4\n",
      "rank=4\n",
      "rank=3\n"
     ]
    }
   ],
   "source": [
    "# make a matrix\n",
    "m = 4\n",
    "n = 6\n",
    "\n",
    "# create a random matrix\n",
    "A = np.random.randn(m,n)\n",
    "\n",
    "# what is the largest possible rank?\n",
    "ra = np.linalg.matrix_rank(A)\n",
    "print('rank=' + str(ra))\n",
    "\n",
    "\n",
    "# set last column to be repeat of penultimate column\n",
    "B = A\n",
    "A2 = A.copy()\n",
    "B2 = B.copy()\n",
    "B[:,n-1] = B[:,n-2]\n",
    "rb = np.linalg.matrix_rank(B)\n",
    "print('rank=' + str(rb))\n",
    "\n",
    "# set last row to be repeat of penultimate row\n",
    "B2 = A2\n",
    "B2[m-1,:] = B2[m-2,:]\n",
    "rb = np.linalg.matrix_rank(B2)\n",
    "print('rank=' + str(rb))"
   ]
  },
  {
   "cell_type": "code",
   "execution_count": null,
   "metadata": {},
   "outputs": [],
   "source": []
  },
  {
   "cell_type": "code",
   "execution_count": 29,
   "metadata": {},
   "outputs": [
    {
     "name": "stdout",
     "output_type": "stream",
     "text": [
      "rank (w/o noise) = 3\n",
      "rank (with noise) = 4\n"
     ]
    }
   ],
   "source": [
    "## adding noise to a rank-deficient matrix\n",
    "\n",
    "# square for convenience\n",
    "A = np.round( 10*np.random.randn(m,m) )\n",
    "\n",
    "# reduce the rank\n",
    "A[:,m-1] = A[:,m-2]\n",
    "\n",
    "# noise level\n",
    "noiseamp = .001\n",
    "\n",
    "# add the noise\n",
    "B = A + noiseamp*np.random.randn(m,m)\n",
    "\n",
    "print('rank (w/o noise) = ' + str(np.linalg.matrix_rank(A)))\n",
    "print('rank (with noise) = ' + str(np.linalg.matrix_rank(B)))\n"
   ]
  },
  {
   "cell_type": "markdown",
   "metadata": {},
   "source": [
    "# Reduced Rank Matrices using multiplication"
   ]
  },
  {
   "cell_type": "code",
   "execution_count": 37,
   "metadata": {},
   "outputs": [
    {
     "name": "stdout",
     "output_type": "stream",
     "text": [
      "Size of new matrix\n",
      " (10, 10)\n",
      "Rank of new matrix\n",
      " 4\n",
      "Size of new matrix\n",
      " (8, 47)\n",
      "Rank of new matrix\n",
      " 3\n"
     ]
    }
   ],
   "source": [
    "# create a 10x10 matrix with rank=4 (use matrix multiplcations)\n",
    "A = np.matmul(np.random.randn(10, 4), np.random.rand(4,10))\n",
    "print(f'Size of new matrix\\n', A.shape)\n",
    "print(f'Rank of new matrix\\n', np.linalg.matrix_rank(A))\n",
    "\n",
    "# generalize the procedure to create any MxN matrix with rank r\n",
    "def RankReduceMatrix(m, n, r):\n",
    "    A = np.matmul(np.random.randn(m, r), \n",
    "                  np.random.rand(r,n))\n",
    "    print(f'Size of new matrix\\n', A.shape)\n",
    "    print(f'Rank of new matrix\\n', np.linalg.matrix_rank(A))\n",
    "    \n",
    "RankReduceMatrix(8, 47, 3)"
   ]
  },
  {
   "cell_type": "markdown",
   "metadata": {},
   "source": [
    "# Test whether the matrix rank is invariant to scalar multiplication"
   ]
  },
  {
   "cell_type": "code",
   "execution_count": 52,
   "metadata": {},
   "outputs": [
    {
     "name": "stdout",
     "output_type": "stream",
     "text": [
      "Rank of F original:\n",
      " 4\n",
      "Rank of F scalar multiplied:\n",
      " 4\n",
      "Rank of R original:\n",
      " 3\n",
      "Rank of R scalar multiplied:\n",
      " 3\n",
      "\n",
      "\n",
      "Rank of scalar times the matrix\n",
      " 3\n",
      "Rank of scalar times the matrix\n",
      " 0.04720589371891304\n",
      "Rank is not a linear operator\n"
     ]
    }
   ],
   "source": [
    "# create two matrices: full-rank and a reduced-rank (random)\n",
    "m = 6\n",
    "n = 4\n",
    "F = np.matmul(np.random.randn(m,n), np.random.randn(n, n))\n",
    "R = np.matmul(np.random.randn(m,n-1), np.random.randn(n-1, n))\n",
    "\n",
    "# create some scalar\n",
    "l = np.random.rand()\n",
    "# print rank of F, R, l*F and l*R\n",
    "\n",
    "print(f'Rank of F original:\\n', np.linalg.matrix_rank(F))\n",
    "print(f'Rank of F scalar multiplied:\\n', np.linalg.matrix_rank(l*F))\n",
    "\n",
    "\n",
    "print(f'Rank of R original:\\n', np.linalg.matrix_rank(R))\n",
    "print(f'Rank of R scalar multiplied:\\n', np.linalg.matrix_rank(l*R))\n",
    "\n",
    "# check whether rank(l*F) == l*rank(F)\n",
    "print(f'\\n\\nRank of scalar times the matrix\\n',\n",
    "      np.linalg.matrix_rank(l * R))\n",
    "print(f'Rank of scalar times the matrix\\n',\n",
    "      l * np.linalg.matrix_rank(R))\n",
    "print('Rank is not a linear operator')"
   ]
  },
  {
   "cell_type": "markdown",
   "metadata": {},
   "source": [
    "\n",
    "---\n",
    "# VIDEO: Rank of A^TA and AA^T\n",
    "---\n"
   ]
  },
  {
   "cell_type": "code",
   "execution_count": 45,
   "metadata": {},
   "outputs": [
    {
     "name": "stdout",
     "output_type": "stream",
     "text": [
      "AtA: 3x3, rank=3\n",
      "AAt: 14x14, rank=3\n"
     ]
    }
   ],
   "source": [
    "\n",
    "# matrix sizes\n",
    "m = 14\n",
    "n =  3\n",
    "\n",
    "# create matrices\n",
    "A = np.round( 10*np.random.randn(m,n) )\n",
    "\n",
    "AtA = np.matrix.transpose(A)@A\n",
    "AAt = A@np.matrix.transpose(A)\n",
    "\n",
    "# get matrix sizes\n",
    "sizeAtA = AtA.shape\n",
    "sizeAAt = AAt.shape\n",
    "\n",
    "# print info!\n",
    "print('AtA: %dx%d, rank=%d' %(sizeAtA[0],sizeAtA[1],np.linalg.matrix_rank(AtA)))\n",
    "print('AAt: %dx%d, rank=%d' %(sizeAAt[0],sizeAAt[1],np.linalg.matrix_rank(AAt)))\n"
   ]
  },
  {
   "cell_type": "markdown",
   "metadata": {},
   "source": [
    "# Show Rules:\n",
    "\n",
    "* Rank of AB<=min(rank(A), rank(B))\n",
    "* rank of A + B <= rank(A) + rank(B)"
   ]
  },
  {
   "cell_type": "code",
   "execution_count": 60,
   "metadata": {},
   "outputs": [
    {
     "name": "stdout",
     "output_type": "stream",
     "text": [
      "2\n",
      "2\n",
      "2\n",
      "2\n",
      "rank of multiplication 2\n",
      "rank of addition 4\n"
     ]
    }
   ],
   "source": [
    "# generate two matrices A and B, 2x5\n",
    "m = 2\n",
    "n = 5\n",
    "\n",
    "A = np.random.rand(2, 5)\n",
    "B = np.random.rand(2, 5)\n",
    "# compute AtA and BtB\n",
    "AtA = np.matmul(A.transpose(), A)\n",
    "BtB = np.matmul(B.transpose(), B)\n",
    "# find their ranks\n",
    "print(np.linalg.matrix_rank(A))\n",
    "print(np.linalg.matrix_rank(B))\n",
    "# find ranks of AtA and BtB\n",
    "print(np.linalg.matrix_rank(AtA))\n",
    "print(np.linalg.matrix_rank(BtB))\n",
    "\n",
    "print('rank of multiplication %d' \n",
    "      %np.linalg.matrix_rank(np.matmul(AtA, BtB)))\n",
    "print('rank of addition %d' \n",
    "      %np.linalg.matrix_rank(AtA + BtB))"
   ]
  },
  {
   "cell_type": "markdown",
   "metadata": {},
   "source": [
    "\n",
    "---\n",
    "# VIDEO: Making a matrix full-rank by \"shifting\"\n",
    "---\n"
   ]
  },
  {
   "cell_type": "code",
   "execution_count": 47,
   "metadata": {},
   "outputs": [
    {
     "name": "stdout",
     "output_type": "stream",
     "text": [
      "rank(w/o shift) = 29\n",
      "rank(with shift) = 30\n"
     ]
    }
   ],
   "source": [
    "# size of matrix\n",
    "m = 30\n",
    "\n",
    "# create the square symmetric matrix\n",
    "A = np.random.randn(m,m)\n",
    "A = np.round( 10*np.matrix.transpose(A)@A )\n",
    "\n",
    "# reduce the rank\n",
    "A[:,0] = A[:,1]\n",
    "\n",
    "# shift amount (l=lambda)\n",
    "l = .01\n",
    "\n",
    "# new matrix\n",
    "B = A + l*np.eye(m,m)\n",
    "\n",
    "# print information\n",
    "print('rank(w/o shift) = %d' %np.linalg.matrix_rank(A))\n",
    "print('rank(with shift) = %d' %np.linalg.matrix_rank(B))\n"
   ]
  },
  {
   "cell_type": "markdown",
   "metadata": {},
   "source": [
    "# Check span of vector within a set of column vectors"
   ]
  },
  {
   "cell_type": "code",
   "execution_count": 77,
   "metadata": {},
   "outputs": [],
   "source": [
    "# determine whether this vector\n",
    "v = np.array([1, 2, 3, 4])\n",
    "\n",
    "# in the span of these sets\n",
    "S = np.array([[4, 3, 6, 2],\n",
    "             [0, 4, 0, 1]])\n",
    "T = np.array([[1, 2, 2, 2],\n",
    "             [0, 0, 1, 2]]) "
   ]
  },
  {
   "cell_type": "code",
   "execution_count": 93,
   "metadata": {},
   "outputs": [
    {
     "data": {
      "text/plain": [
       "array([[4, 3, 6, 2],\n",
       "       [0, 4, 0, 1],\n",
       "       [1, 2, 3, 4]])"
      ]
     },
     "execution_count": 93,
     "metadata": {},
     "output_type": "execute_result"
    }
   ],
   "source": []
  },
  {
   "cell_type": "code",
   "execution_count": 96,
   "metadata": {},
   "outputs": [
    {
     "name": "stdout",
     "output_type": "stream",
     "text": [
      "Rank S with v 3\n",
      "Rank T with v 2\n"
     ]
    }
   ],
   "source": [
    "print(f'Rank S with v', \n",
    "      np.linalg.matrix_rank(np.concatenate([S, v.T])))\n",
    "print(f'Rank T with v', \n",
    "      np.linalg.matrix_rank(np.concatenate([T, v.T])))\n",
    "\n",
    "# Vector "
   ]
  },
  {
   "cell_type": "code",
   "execution_count": null,
   "metadata": {},
   "outputs": [],
   "source": []
  }
 ],
 "metadata": {
  "kernelspec": {
   "display_name": "Python 3",
   "language": "python",
   "name": "python3"
  },
  "language_info": {
   "codemirror_mode": {
    "name": "ipython",
    "version": 3
   },
   "file_extension": ".py",
   "mimetype": "text/x-python",
   "name": "python",
   "nbconvert_exporter": "python",
   "pygments_lexer": "ipython3",
   "version": "3.7.6"
  }
 },
 "nbformat": 4,
 "nbformat_minor": 2
}
