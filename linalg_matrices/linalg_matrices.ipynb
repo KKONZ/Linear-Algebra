{
 "cells": [
  {
   "cell_type": "code",
   "execution_count": 2,
   "metadata": {},
   "outputs": [],
   "source": [
    "import numpy as np"
   ]
  },
  {
   "cell_type": "markdown",
   "metadata": {},
   "source": [
    "\n",
    "---\n",
    "# VIDEO: A zoo of matrices\n",
    "---\n"
   ]
  },
  {
   "cell_type": "code",
   "execution_count": 6,
   "metadata": {},
   "outputs": [
    {
     "name": "stdout",
     "output_type": "stream",
     "text": [
      "[[-0.71557654  1.45182826]\n",
      " [ 1.06682951  0.41621816]\n",
      " [ 0.73529535 -1.13360349]\n",
      " [-0.27886766  1.09607327]\n",
      " [ 1.02231708  0.33070146]]\n",
      "[[1. 0. 0.]\n",
      " [0. 1. 0.]\n",
      " [0. 0. 1.]]\n",
      "[[0. 0. 0. 0.]\n",
      " [0. 0. 0. 0.]\n",
      " [0. 0. 0. 0.]\n",
      " [0. 0. 0. 0.]]\n",
      "[[1 0 0 0 0]\n",
      " [0 2 0 0 0]\n",
      " [0 0 3 0 0]\n",
      " [0 0 0 5 0]\n",
      " [0 0 0 0 2]]\n",
      "[[-0.67670222  0.          0.          0.          0.        ]\n",
      " [-0.77838294  1.11168298  0.          0.          0.        ]\n",
      " [ 0.22101947 -1.21232794 -0.10775589  0.          0.        ]\n",
      " [-1.85946156  0.16394858  0.34929319 -1.47981723  0.        ]\n",
      " [ 2.46333894 -0.1642648   0.28700074 -1.35177253  0.72389389]]\n"
     ]
    }
   ],
   "source": [
    "\n",
    "# square vs. rectangular\n",
    "S = np.random.randn(5,5)\n",
    "R = np.random.randn(5,2) # 5 rows, 2 columns\n",
    "print(R)\n",
    "\n",
    "# identity\n",
    "I = np.eye(3)\n",
    "print(I)\n",
    "\n",
    "# zeros\n",
    "Z = np.zeros((4,4))\n",
    "print(Z)\n",
    "\n",
    "# diagonal\n",
    "D = np.diag([ 1, 2, 3, 5, 2 ])\n",
    "print(D)\n",
    "\n",
    "# create triangular matrix from full matrices\n",
    "S = np.random.randn(5,5)\n",
    "U = np.triu(S)\n",
    "L = np.tril(S)\n",
    "print(L)\n",
    "\n",
    "# concatenate matrices (sizes must match!)\n",
    "A = np.random.randn(3,2)\n",
    "B = np.random.randn(4,4)\n",
    "try:\n",
    "    print(np.concatenate((A,B),axis=1))\n",
    "except:\n",
    "    A = np.random.randn(4,1)\n",
    "    C = np.concatenate((A, B), axis = 1)"
   ]
  },
  {
   "cell_type": "code",
   "execution_count": 4,
   "metadata": {},
   "outputs": [
    {
     "name": "stdout",
     "output_type": "stream",
     "text": [
      "[[-0.61220209 -1.32818292 -1.12290198  1.24506923  0.43281385]\n",
      " [ 0.20584859  0.59979262  0.84133496 -0.29880344  0.1200452 ]\n",
      " [-0.70272516 -2.09760016  2.26550248 -0.84912586  0.67858226]\n",
      " [-0.46728819  0.5205528  -1.80367929  0.26402993 -0.56559287]]\n"
     ]
    }
   ],
   "source": [
    "print(C)"
   ]
  },
  {
   "cell_type": "markdown",
   "metadata": {},
   "source": [
    "\n",
    "---\n",
    "# VIDEO: Matrix addition and subtraction\n",
    "---\n"
   ]
  },
  {
   "cell_type": "code",
   "execution_count": 15,
   "metadata": {},
   "outputs": [
    {
     "name": "stdout",
     "output_type": "stream",
     "text": [
      "[[ 4.87000394e-01 -2.33811731e+00 -1.26019032e+00  1.15061253e+00\n",
      "   1.35301450e-03]\n",
      " [-2.92055347e-01 -5.65818904e-01  1.29198888e+00  7.07039289e-01\n",
      "  -2.58991084e-01]\n",
      " [-3.70297265e-01 -2.95048795e-01 -4.90960492e-01 -8.45964087e-02\n",
      "  -1.44221625e+00]\n",
      " [-2.34960940e-01 -1.20149626e+00  8.83596615e-01  5.82540343e-01\n",
      "  -6.58679446e-02]\n",
      " [ 3.33478334e-01 -2.12268477e+00 -1.04765666e+00 -9.52698661e-01\n",
      "  -3.34571236e-01]]\n"
     ]
    }
   ],
   "source": [
    "\n",
    "# create random matrices\n",
    "A = np.random.randn(5,4)\n",
    "B = np.random.randn(5,3)\n",
    "C = np.random.randn(5,4)\n",
    "\n",
    "# try to add them\n",
    "try:\n",
    "    A+B\n",
    "except:\n",
    "    pass\n",
    "try:\n",
    "    A+C\n",
    "except:\n",
    "    pass\n",
    "# \"shifting\" a matrix\n",
    "l = .3 # lambda\n",
    "N = 5  # size of square matrix\n",
    "D = np.random.randn(N,N) # can only shift a square matrix\n",
    "print(D)"
   ]
  },
  {
   "cell_type": "code",
   "execution_count": 16,
   "metadata": {},
   "outputs": [
    {
     "data": {
      "text/plain": [
       "array([[0.3, 0. , 0. , 0. , 0. ],\n",
       "       [0. , 0.3, 0. , 0. , 0. ],\n",
       "       [0. , 0. , 0.3, 0. , 0. ],\n",
       "       [0. , 0. , 0. , 0.3, 0. ],\n",
       "       [0. , 0. , 0. , 0. , 0.3]])"
      ]
     },
     "execution_count": 16,
     "metadata": {},
     "output_type": "execute_result"
    }
   ],
   "source": [
    "ScaledI = l*np.eye(N)\n",
    "ScaledI"
   ]
  },
  {
   "cell_type": "code",
   "execution_count": 17,
   "metadata": {},
   "outputs": [
    {
     "name": "stdout",
     "output_type": "stream",
     "text": [
      "[[ 7.87000394e-01 -2.33811731e+00 -1.26019032e+00  1.15061253e+00\n",
      "   1.35301450e-03]\n",
      " [-2.92055347e-01 -2.65818904e-01  1.29198888e+00  7.07039289e-01\n",
      "  -2.58991084e-01]\n",
      " [-3.70297265e-01 -2.95048795e-01 -1.90960492e-01 -8.45964087e-02\n",
      "  -1.44221625e+00]\n",
      " [-2.34960940e-01 -1.20149626e+00  8.83596615e-01  8.82540343e-01\n",
      "  -6.58679446e-02]\n",
      " [ 3.33478334e-01 -2.12268477e+00 -1.04765666e+00 -9.52698661e-01\n",
      "  -3.45712355e-02]]\n"
     ]
    }
   ],
   "source": [
    "Ds = D + ScaledI\n",
    "print(Ds)"
   ]
  },
  {
   "cell_type": "code",
   "execution_count": null,
   "metadata": {},
   "outputs": [],
   "source": []
  },
  {
   "cell_type": "markdown",
   "metadata": {},
   "source": [
    "\n",
    "---\n",
    "# VIDEO: Matrix-scalar multiplication\n",
    "---\n"
   ]
  },
  {
   "cell_type": "code",
   "execution_count": 18,
   "metadata": {},
   "outputs": [
    {
     "name": "stdout",
     "output_type": "stream",
     "text": [
      "[[ 2  4]\n",
      " [ 4 10]]\n",
      "[[ 2  4]\n",
      " [ 4 10]]\n"
     ]
    }
   ],
   "source": [
    "# define matrix and scalar\n",
    "M = np.array([ [1, 2], [2, 5] ])\n",
    "s = 2\n",
    "\n",
    "# pre- and post-multiplication is the same:\n",
    "print( M*s )\n",
    "print( s*M )\n"
   ]
  },
  {
   "cell_type": "code",
   "execution_count": 26,
   "metadata": {},
   "outputs": [],
   "source": [
    "m = 7\n",
    "n = 5\n",
    "A = np.random.randn(m,n)\n",
    "B = np.random.randn(m,n)\n",
    "s = np.random.random()"
   ]
  },
  {
   "cell_type": "code",
   "execution_count": 33,
   "metadata": {},
   "outputs": [
    {
     "data": {
      "text/plain": [
       "array([[ 5.55111512e-17,  0.00000000e+00,  0.00000000e+00,\n",
       "         0.00000000e+00,  1.11022302e-16],\n",
       "       [-1.11022302e-16, -6.93889390e-18,  0.00000000e+00,\n",
       "        -2.22044605e-16,  0.00000000e+00],\n",
       "       [-1.38777878e-17,  0.00000000e+00,  0.00000000e+00,\n",
       "         0.00000000e+00,  1.11022302e-16],\n",
       "       [ 1.66533454e-16,  0.00000000e+00, -1.11022302e-16,\n",
       "        -3.46944695e-18, -4.16333634e-17],\n",
       "       [-5.55111512e-17,  0.00000000e+00,  0.00000000e+00,\n",
       "         0.00000000e+00,  1.11022302e-16],\n",
       "       [-3.46944695e-17, -1.11022302e-16, -4.44089210e-16,\n",
       "         0.00000000e+00,  0.00000000e+00],\n",
       "       [ 0.00000000e+00,  0.00000000e+00,  1.11022302e-16,\n",
       "         0.00000000e+00,  0.00000000e+00]])"
      ]
     },
     "execution_count": 33,
     "metadata": {},
     "output_type": "execute_result"
    }
   ],
   "source": [
    "resL = s * (A + B)\n",
    "resR = s*A + s*B\n",
    "# Underflow, basically zero\n",
    "resL - resR"
   ]
  },
  {
   "cell_type": "markdown",
   "metadata": {},
   "source": [
    "# VIDEO: Transpose"
   ]
  },
  {
   "cell_type": "code",
   "execution_count": 17,
   "metadata": {},
   "outputs": [
    {
     "name": "stdout",
     "output_type": "stream",
     "text": [
      "[[1 2 3]\n",
      " [2 3 4]]\n",
      "\n",
      "[[1 2]\n",
      " [2 3]\n",
      " [3 4]]\n",
      "\n",
      "[[1 2 3]\n",
      " [2 3 4]]\n",
      "\n",
      "[[1 2]\n",
      " [2 3]\n",
      " [3 4]]\n"
     ]
    }
   ],
   "source": [
    "M = np.array([ [1,2,3],\n",
    "               [2,3,4] ])\n",
    "\n",
    "print(M), print('')\n",
    "print(M.T), print('') # one transpose\n",
    "print(M.T.T),print('') # double-transpose returns the original matrix\n",
    "\n",
    "# can also use the function transpose\n",
    "print(np.transpose(M))"
   ]
  },
  {
   "cell_type": "code",
   "execution_count": 24,
   "metadata": {},
   "outputs": [
    {
     "name": "stdout",
     "output_type": "stream",
     "text": [
      "[[4.+1.j 3.+0.j 2.-4.j]]\n",
      "\n",
      "[[4.+1.j]\n",
      " [3.+0.j]\n",
      " [2.-4.j]]\n",
      "\n",
      "[[4.+1.j]\n",
      " [3.+0.j]\n",
      " [2.-4.j]]\n",
      "\n",
      "[[4.-1.j]\n",
      " [3.-0.j]\n",
      " [2.+4.j]]\n"
     ]
    }
   ],
   "source": [
    "# warning! be careful when using complex matrices\n",
    "C = np.array([ [4+1j , 3 , 2-4j] ])\n",
    "\n",
    "print(C), print('')\n",
    "print(C.T), print('')\n",
    "print(np.transpose(C)), print('')\n",
    "\n",
    "# Note: In MATLAB, the transpose is the Hermitian transpose; \n",
    "#       in Python, you need to call the Hermitian explicitly by first converting from an array into a matrix\n",
    "print(np.matrix(C).H) # note the sign flips!\n"
   ]
  },
  {
   "cell_type": "markdown",
   "metadata": {},
   "source": [
    "\n",
    "---\n",
    "# VIDEO: Diagonal and trace\n",
    "---\n"
   ]
  },
  {
   "cell_type": "code",
   "execution_count": 10,
   "metadata": {},
   "outputs": [
    {
     "name": "stdout",
     "output_type": "stream",
     "text": [
      "[  4.  10.   4.   3.]\n",
      "[[  4.   0.   0.   0.]\n",
      " [  0.  10.   0.   0.]\n",
      " [  0.   0.   4.   0.]\n",
      " [  0.   0.   0.   3.]]\n",
      "21.0\n",
      "21.0\n"
     ]
    }
   ],
   "source": [
    "\n",
    "M = np.round( 5*np.random.randn(4,4) )\n",
    "\n",
    "# extract the diagonals\n",
    "d = np.diag(M)\n",
    "\n",
    "# notice the two ways of using the diag function\n",
    "d = np.diag(M) # input is matrix, output is vector\n",
    "D = np.diag(d) # input is vector, output is matrix\n",
    "print(d)\n",
    "print(D)\n",
    "\n",
    "# trace as sum of diagonal elements\n",
    "tr = np.trace(M)\n",
    "tr2 = sum( np.diag(M) )\n",
    "print(tr)\n",
    "print(tr2)"
   ]
  },
  {
   "cell_type": "code",
   "execution_count": 38,
   "metadata": {},
   "outputs": [
    {
     "name": "stdout",
     "output_type": "stream",
     "text": [
      "2.5526566866614573 should be an error\n",
      "-4.677959829623364\n",
      "lambda -0.34804772852370847\n"
     ]
    }
   ],
   "source": [
    "# Is trace a linear operator \n",
    "\n",
    "# What is the relationship between tr(A) + tr(B)\n",
    "\n",
    "# What is the relationship between tr(l * A) + l* tr(A)\n",
    "n = 4\n",
    "m = 7\n",
    "\n",
    "A = np.random.randn(m,n)\n",
    "B = np.random.randn(m,n)\n",
    "print(str(np.trace(A + B)) + ' should be an error')\n",
    "# Should fail because needs to be square\n",
    "\n",
    "n = m\n",
    "\n",
    "A = np.random.randn(m,n)\n",
    "B = np.random.randn(m,n)\n",
    "print(np.trace(A + B))\n",
    "\n",
    "l = np.random.randn()\n",
    "print('lambda ' + str(l))\n",
    "\n",
    "print(str(np.trace(l * A)) + ' trace of lambda *')"
   ]
  },
  {
   "cell_type": "code",
   "execution_count": null,
   "metadata": {},
   "outputs": [],
   "source": []
  }
 ],
 "metadata": {
  "kernelspec": {
   "display_name": "Python 3",
   "language": "python",
   "name": "python3"
  },
  "language_info": {
   "codemirror_mode": {
    "name": "ipython",
    "version": 3
   },
   "file_extension": ".py",
   "mimetype": "text/x-python",
   "name": "python",
   "nbconvert_exporter": "python",
   "pygments_lexer": "ipython3",
   "version": "3.7.6"
  }
 },
 "nbformat": 4,
 "nbformat_minor": 2
}
