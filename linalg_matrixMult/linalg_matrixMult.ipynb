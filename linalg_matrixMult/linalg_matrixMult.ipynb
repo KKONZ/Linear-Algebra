{
 "cells": [
  {
   "cell_type": "code",
   "execution_count": 3,
   "metadata": {},
   "outputs": [],
   "source": [
    "import numpy as np\n",
    "import matplotlib.pyplot as plt\n",
    "import math"
   ]
  },
  {
   "cell_type": "markdown",
   "metadata": {},
   "source": [
    "\n",
    "---\n",
    "# VIDEO: Standard matrix multiplication, parts 1 & 2\n",
    "---\n"
   ]
  },
  {
   "cell_type": "code",
   "execution_count": 8,
   "metadata": {},
   "outputs": [
    {
     "name": "stdout",
     "output_type": "stream",
     "text": [
      "np.matmul(A,B) works: \n",
      "[[ 1.91718703e+00  8.50201097e-01  2.97430163e+00  1.65346278e+00\n",
      "  -5.27924579e-01  6.39485147e-01]\n",
      " [-1.12372863e+00  7.22122541e-01 -9.82217410e-01 -1.04286922e-03\n",
      "   5.89358393e+00  4.99314901e+00]\n",
      " [-6.62677367e-01 -6.57941724e-01  1.04528900e+00  7.08465246e-01\n",
      "  -2.12900190e+00 -2.40418784e+00]\n",
      " [-3.08598550e+00 -7.02365578e-01  1.55618133e-01  9.54658887e-01\n",
      "   2.62685929e+00  7.55411861e-01]]\n",
      "np.matmul(A,A) does not work\n",
      "\n",
      "np.matmul(np.matrix.transpose(A),C) works:\n",
      "[[ 1.80415976  1.93243817 -0.53672648 -0.27774316 -1.02742137 -0.44934534]\n",
      " [ 2.51311545  0.76246641 -3.70210634 -3.44609095 -2.47207146  2.01102949]\n",
      " [ 2.32194986 -0.76424275 -0.60249723  0.62619125 -2.92062535  1.36094232]]\n",
      "np.matmul(B,np.matrix.transpose(B)) works:\n",
      " [[ 2.72401367  1.21396379  0.87383085]\n",
      " [ 1.21396379  7.41210786 -0.6703744 ]\n",
      " [ 0.87383085 -0.6703744   4.13779546]]\n",
      "np.matmul(np.matrix.transpose(B),B) works:\n",
      " [[ 2.07204761  0.48685439  0.25425882 -0.39072964 -1.79197777 -0.52842769]\n",
      " [ 0.48685439  0.22681191  0.08170995 -0.03546174  0.10683427  0.38247311]\n",
      " [ 0.25425882  0.08170995  3.38855075  2.24970668 -1.05789395 -0.8139394 ]\n",
      " [-0.39072964 -0.03546174  2.24970668  1.66131307 -0.03933554 -0.22479379]\n",
      " [-1.79197777  0.10683427 -1.05789395 -0.03933554  4.29269406  3.07403625]\n",
      " [-0.52842769  0.38247311 -0.8139394  -0.22479379  3.07403625  2.63249959]]\n",
      "np.matmul(B,C) does not work\n",
      "\n",
      "np.matmul(C,B) does not work\n",
      "\n",
      "np.matmul(np.matrix.transpose(C),B) does not work\n",
      "\n",
      "np.matmul(C,np.matrix.transpose(B)) works:\n",
      "[[-0.88584079 -2.61537423  1.30773208]\n",
      " [-3.17644035  0.9038785  -3.1210894 ]\n",
      " [-1.6363412  -0.23571732  0.06483676]\n",
      " [-1.98063583 -2.69565142 -0.03067273]]\n"
     ]
    }
   ],
   "source": [
    "## rules for multiplication validity\n",
    "\n",
    "m = 4\n",
    "n = 3\n",
    "k = 6\n",
    "\n",
    "# make some matrices\n",
    "A = np.random.randn(m,n)\n",
    "B = np.random.randn(n,k)\n",
    "C = np.random.randn(m,k)\n",
    "\n",
    "# test which multiplications are valid.\n",
    "# Think of your answer first, then test.\n",
    "try:\n",
    "    print('np.matmul(A,B) works: \\n' + str(np.matmul(A,B)))\n",
    "except:\n",
    "    print('np.matmul(A,B) does not work \\n\\n')\n",
    "try:\n",
    "    print('np.matmul(A,A) works: \\n' + str(np.matmul(A,A)))\n",
    "except:\n",
    "    print('np.matmul(A,A) does not work\\n')\n",
    "try:\n",
    "    print('np.matmul(np.matrix.transpose(A),C) works:\\n' +\n",
    "          str(np.matmul(np.matrix.transpose(A),C)))\n",
    "except:\n",
    "    print('np.matmul(np.matrix.transpose(A),C) does not work\\n')\n",
    "\n",
    "try:\n",
    "    print('np.matmul(B,np.matrix.transpose(B)) works:\\n ' +\n",
    "          str(np.matmul(B,np.matrix.transpose(B))))\n",
    "except:\n",
    "    print('np.matmul(B,np.matrix.transpose(B)) does not work\\n')\n",
    "try:\n",
    "    print('np.matmul(np.matrix.transpose(B),B) works:\\n ' + \n",
    "          str(np.matmul(np.matrix.transpose(B),B)))\n",
    "except:\n",
    "    print('np.matmul(np.matrix.transpose(B),B) does not work\\n')\n",
    "try:\n",
    "    print('np.matmul(B,C) works:\\n' + str(np.matmul(B,C)))\n",
    "except:\n",
    "    print('np.matmul(B,C) does not work\\n')\n",
    "try:\n",
    "    print('np.matmul(C,B) works:\\n' + str(np.matmul(C,B)))\n",
    "except:\n",
    "    print('np.matmul(C,B) does not work\\n')\n",
    "try:\n",
    "    print('np.matmul(np.matrix.transpose(C),B) works: \\n' +\n",
    "          str(np.matmul(np.matrix.transpose(C),B)))\n",
    "except:\n",
    "    print('np.matmul(np.matrix.transpose(C),B) does not work\\n')\n",
    "try:\n",
    "    print('np.matmul(C,np.matrix.transpose(B)) works:\\n' +\n",
    "          str(np.matmul(C,np.matrix.transpose(B))))\n",
    "except:\n",
    "    print('np.matmul(C,np.matrix.transpose(B)) does not work\\n')"
   ]
  },
  {
   "cell_type": "code",
   "execution_count": null,
   "metadata": {},
   "outputs": [],
   "source": []
  },
  {
   "cell_type": "code",
   "execution_count": 105,
   "metadata": {},
   "outputs": [
    {
     "data": {
      "text/plain": [
       "array([[0., 0., 0., 0.],\n",
       "       [0., 0., 0., 0.],\n",
       "       [0., 0., 0., 0.],\n",
       "       [0., 0., 0., 0.]])"
      ]
     },
     "execution_count": 105,
     "metadata": {},
     "output_type": "execute_result"
    }
   ],
   "source": [
    "# implement matrix multiplication via layers\n",
    "\n",
    "# generate two matrices (A, B)\n",
    "m = 4\n",
    "n = 6\n",
    "\n",
    "A = np.random.randn(m,n)\n",
    "B = np.random.randn(n,m)\n",
    "\n",
    "# Build the product matrix layer wise (for-loop)\n",
    "\n",
    "c1 = np.zeros((m, m))\n",
    "for i in range(n):\n",
    "    c1 += np.outer(A.transpose()[i], B[i])\n",
    "# Implement the matrix multiplication directly\n",
    "c2 = np.matmul(A, B)\n",
    "c1 - c2"
   ]
  },
  {
   "cell_type": "code",
   "execution_count": 106,
   "metadata": {},
   "outputs": [
    {
     "name": "stdout",
     "output_type": "stream",
     "text": [
      "          0         1         2         3         4         5\n",
      "0 -1.064429  0.126588  0.544924  0.809064 -0.434494 -0.563182\n",
      "1 -0.505143  1.028496 -1.152508  0.306393 -2.026081 -1.908187\n",
      "2 -0.544730 -0.419017  0.880204 -0.767678  0.092038  0.598838\n",
      "3  0.920344  0.171238 -0.988816 -1.065791  0.485092 -0.161872\n"
     ]
    },
    {
     "data": {
      "text/plain": [
       "array([[-1.06442882,  0.12658817,  0.54492382,  0.8090638 , -0.43449377,\n",
       "        -0.56318198],\n",
       "       [-0.50514277,  1.0284959 , -1.15250816,  0.30639309, -2.02608082,\n",
       "        -1.90818746],\n",
       "       [-0.54472963, -0.41901727,  0.88020447, -0.76767767,  0.09203754,\n",
       "         0.59883808],\n",
       "       [ 0.92034356,  0.1712384 , -0.98881606, -1.06579142,  0.48509232,\n",
       "        -0.16187172]])"
      ]
     },
     "execution_count": 106,
     "metadata": {},
     "output_type": "execute_result"
    }
   ],
   "source": [
    "import pandas as pd\n",
    "# Have a more familiar investigation of the matrix A\n",
    "print(pd.DataFrame(A))\n",
    "# matrix output\n",
    "A"
   ]
  },
  {
   "cell_type": "markdown",
   "metadata": {},
   "source": [
    "\n",
    "---\n",
    "# VIDEO: Order-of-operations on matrices\n",
    "---\n"
   ]
  },
  {
   "cell_type": "code",
   "execution_count": 107,
   "metadata": {},
   "outputs": [
    {
     "data": {
      "text/plain": [
       "array([[ 1.04083409e-17,  2.08166817e-17],\n",
       "       [-3.46944695e-18,  1.38777878e-17]])"
      ]
     },
     "execution_count": 107,
     "metadata": {},
     "output_type": "execute_result"
    }
   ],
   "source": [
    "\n",
    "n = 2\n",
    "L = np.random.randn(n,n)\n",
    "I = np.random.randn(n,n)\n",
    "V = np.random.randn(n,n)\n",
    "E = np.random.randn(n,n)\n",
    "\n",
    "# result of \"forward\" multiplication and then transpose\n",
    "res1 = np.matrix.transpose( L @ I @ V @ E )\n",
    "\n",
    "# result of \"flipped\" multiplication of transposed matrices\n",
    "res2 = np.matrix.transpose(E) @ np.matrix.transpose(V) @ np.matrix.transpose(I) @ np.matrix.transpose(L)\n",
    "\n",
    "# test equality by subtracting (ignore possible computer rounding errors)\n",
    "res1-res2"
   ]
  },
  {
   "cell_type": "markdown",
   "metadata": {},
   "source": [
    "\n",
    "---\n",
    "# VIDEO: Matrix-vector multiplication\n",
    "---\n"
   ]
  },
  {
   "cell_type": "code",
   "execution_count": 108,
   "metadata": {},
   "outputs": [
    {
     "data": {
      "text/plain": [
       "array([14., 10., 13., 16.])"
      ]
     },
     "execution_count": 108,
     "metadata": {},
     "output_type": "execute_result"
    }
   ],
   "source": [
    "\n",
    "# number of elements\n",
    "m = 4\n",
    "\n",
    "# create matrices\n",
    "N = np.round( 10*np.random.randn(m,m) )\n",
    "S = np.round( np.matrix.transpose(N)*N/m**2 ) # scaled symmetric\n",
    "\n",
    "# and vector\n",
    "w = np.array([-1, 0, 1, 2])\n",
    "\n",
    "# with symmetric matrix\n",
    "# NOTE: The @ symbol for matrix multiplication is relatively new to Python\n",
    "S@w    # 1\n",
    "np.matrix.transpose(S@w) # 2\n",
    "w@S    # 3\n",
    "np.matrix.transpose(w)@np.matrix.transpose(S)  # 4\n",
    "np.matrix.transpose(w)@S   # 5\n",
    "\n",
    "\n",
    "# with nonsymmetric matrix\n",
    "N@w    # 1\n",
    "np.matrix.transpose(N@w) # 2\n",
    "w@N    # 3\n",
    "np.matrix.transpose(w)@np.matrix.transpose(N)  # 4\n",
    "np.matrix.transpose(w)@N   # 5\n"
   ]
  },
  {
   "cell_type": "code",
   "execution_count": 116,
   "metadata": {},
   "outputs": [
    {
     "data": {
      "text/plain": [
       "array([22, 10])"
      ]
     },
     "execution_count": 116,
     "metadata": {},
     "output_type": "execute_result"
    }
   ],
   "source": [
    "np.matmul(np.array([np.array([2, 4]),\n",
    "         np.array([2,1])]), np.array([3, 4]))"
   ]
  },
  {
   "cell_type": "markdown",
   "metadata": {},
   "source": [
    "\n",
    "---\n",
    "# VIDEO: 2D transformation matrices\n",
    "---\n"
   ]
  },
  {
   "cell_type": "code",
   "execution_count": 26,
   "metadata": {},
   "outputs": [
    {
     "data": {
      "image/png": "[encoded data removed]",
      "text/plain": [
       "<matplotlib.figure.Figure at 0x7ff1f13a19b0>"
      ]
     },
     "metadata": {},
     "output_type": "display_data"
    }
   ],
   "source": [
    "# 2D input vector\n",
    "v = np.array([ 3, -2 ])\n",
    "\n",
    "# 2x2 transformation matrix\n",
    "A = np.array([ [1,-1], [2,1] ])\n",
    "\n",
    "# output vector is Av (convert v to column)\n",
    "w = A@np.matrix.transpose(v)\n",
    "\n",
    "\n",
    "# plot them\n",
    "plt.plot([0,v[0]],[0,v[1]],label='v')\n",
    "plt.plot([0,w[0]],[0,w[1]],label='Av')\n",
    "\n",
    "plt.grid()\n",
    "plt.axis((-6, 6, -6, 6))\n",
    "plt.legend()\n",
    "plt.title('Rotation + stretching')\n",
    "plt.show()"
   ]
  },
  {
   "cell_type": "code",
   "execution_count": 34,
   "metadata": {},
   "outputs": [
    {
     "data": {
      "image/png": "[encoded data removed]",
      "text/plain": [
       "<matplotlib.figure.Figure at 0x7ff1f1246b38>"
      ]
     },
     "metadata": {},
     "output_type": "display_data"
    }
   ],
   "source": [
    "## pure rotation\n",
    "\n",
    "# 2D input vector\n",
    "v = np.array([ 3, -2 ])\n",
    "\n",
    "# 2x2 rotation matrix\n",
    "th = 5*np.pi/24\n",
    "A = np.array([ [math.cos(th),-math.sin(th)], \n",
    "              [math.sin(th),math.cos(th)] ])\n",
    "\n",
    "# output vector is Av (convert v to column)\n",
    "w = A@np.matrix.transpose(v)\n",
    "\n",
    "\n",
    "# plot them\n",
    "plt.plot([0,v[0]],[0,v[1]],label='v')\n",
    "plt.plot([0,w[0]],[0,w[1]],label='Av')\n",
    "\n",
    "plt.grid()\n",
    "plt.axis((-4, 4, -4, 4))\n",
    "plt.legend()\n",
    "plt.title('Pure rotation')\n",
    "plt.show()"
   ]
  },
  {
   "cell_type": "code",
   "execution_count": 131,
   "metadata": {},
   "outputs": [],
   "source": [
    "thetas = np.linspace(0, 2*np.pi, 100)\n",
    "v = np.array([ 3, -2 ])"
   ]
  },
  {
   "cell_type": "code",
   "execution_count": 147,
   "metadata": {},
   "outputs": [],
   "source": [
    "vecmags = np.zeros((len(thetas), 2))\n",
    "for i in range(len(thetas)):\n",
    "    th = thetas[i]\n",
    "    A1 = np.array([ [2 * math.cos(th),-math.sin(th)], \n",
    "              [math.sin(th),math.cos(th)] ])\n",
    "    A2 = np.array([ [math.cos(th),-math.sin(th)], \n",
    "              [math.sin(th),math.cos(th)] ])\n",
    "    vecmags[i, 0] = np.linalg.norm(A1 * v)\n",
    "    \n",
    "    vecmags[i, 1] = np.linalg.norm(A2 * v)"
   ]
  },
  {
   "cell_type": "code",
   "execution_count": 205,
   "metadata": {},
   "outputs": [
    {
     "data": {
      "image/png": "[encoded data removed]",
      "text/plain": [
       "<Figure size 432x288 with 1 Axes>"
      ]
     },
     "metadata": {
      "needs_background": "light"
     },
     "output_type": "display_data"
    }
   ],
   "source": [
    "plt.plot(thetas, vecmags)\n",
    "plt.ylabel('Av magnitude')\n",
    "plt.xlabel('Angle (rad)')\n",
    "plt.legend(['impure rotation', 'pure rotation'])\n",
    "\n",
    "plt.gca().set_aspect('equal', adjustable='box')"
   ]
  },
  {
   "cell_type": "code",
   "execution_count": null,
   "metadata": {},
   "outputs": [],
   "source": []
  },
  {
   "cell_type": "code",
   "execution_count": 207,
   "metadata": {},
   "outputs": [
    {
     "data": {
      "image/png": "[encoded data removed]",
      "text/plain": [
       "<Figure size 432x288 with 1 Axes>"
      ]
     },
     "metadata": {
      "needs_background": "light"
     },
     "output_type": "display_data"
    }
   ],
   "source": [
    "# generate XY coordinates for a circle\n",
    "x = np.linspace( -np.pi, np.pi, 100)\n",
    "xy = np.array([np.cos(x), np.sin(x)]).transpose()\n",
    "# plot the circle\n",
    "\n",
    "plt.scatter(xy[:,0], xy[:,1],\n",
    "           facecolors = 'none',\n",
    "           edgecolors = 'r')\n",
    "\n",
    "# create a 2x2 matrix (starting with I)\n",
    "\n",
    "# Try with various matrices\n",
    "T = np.array([np.array([1, 0]), np.array([0,1])])\n",
    "\n",
    "T = np.array([np.array([1, 0]), np.array([1,2])])\n",
    "\n",
    "T = np.array([np.array([1, -5]), np.array([1,2])])\n",
    "\n",
    "# Try with a singular matrix ( columns form a linearly dependent set)\n",
    "\n",
    "T = np.array([np.array([1, 2]), np.array([2,4])])\n",
    "\n",
    "# multiply matrix by coordinates\n",
    "newxy = np.matmul(xy, T)\n",
    "# plot the new coords.\n",
    "plt.scatter(newxy[:,0], newxy[:,1])\n",
    "\n",
    "maxs = np.max(np.abs([newxy.transpose(), \n",
    "                               xy.transpose()]))\n",
    "axis = np.array([-1, 1, -1, 1]) * maxs\n",
    "plt.axis(axis)\n",
    "plt.gca().set_aspect('equal', adjustable='box')\n",
    "plt.show()\n"
   ]
  },
  {
   "cell_type": "markdown",
   "metadata": {},
   "source": [
    "\n",
    "---\n",
    "# VIDEO: Additive and multiplicative matrix identities\n",
    "---\n"
   ]
  },
  {
   "cell_type": "code",
   "execution_count": 209,
   "metadata": {},
   "outputs": [
    {
     "name": "stdout",
     "output_type": "stream",
     "text": [
      "True\n",
      "True\n",
      "False\n",
      "False\n",
      "True\n"
     ]
    }
   ],
   "source": [
    "# size of matrices\n",
    "n = 4\n",
    "\n",
    "A = np.round( 10*np.random.randn(n,n) )\n",
    "I = np.eye(n,n)\n",
    "Z = np.zeros((n,n))\n",
    "\n",
    "# test both identities\n",
    "print(np.array_equal( A@I , A   ))\n",
    "print(np.array_equal( A   , A@I ))\n",
    "print(np.array_equal( A   , A+I ))\n",
    "\n",
    "print(np.array_equal( A   , A+I ))\n",
    "print(np.array_equal( A+Z , A@I ))\n"
   ]
  },
  {
   "cell_type": "markdown",
   "metadata": {},
   "source": [
    "\n",
    "---\n",
    "# VIDEO: Additive and multiplicative symmetric matrices\n",
    "---\n"
   ]
  },
  {
   "cell_type": "code",
   "execution_count": 86,
   "metadata": {},
   "outputs": [
    {
     "name": "stdout",
     "output_type": "stream",
     "text": [
      "[[ 0.  0.  0.  0.  0.]\n",
      " [ 0.  0.  0.  0.  0.]\n",
      " [ 0.  0.  0.  0.  0.]\n",
      " [ 0.  0.  0.  0.  0.]\n",
      " [ 0.  0.  0.  0.  0.]]\n"
     ]
    }
   ],
   "source": [
    "## the additive method\n",
    "\n",
    "# specify sizes\n",
    "m = 5\n",
    "n = 5\n",
    "\n",
    "# create matrices\n",
    "A = np.random.randn(m,n)\n",
    "S = ( A + np.matrix.transpose(A) )/2\n",
    "\n",
    "# A symmetric matrix minus its transpose should be all zeros\n",
    "print( S-np.matrix.transpose(S) )\n"
   ]
  },
  {
   "cell_type": "code",
   "execution_count": 96,
   "metadata": {},
   "outputs": [
    {
     "name": "stdout",
     "output_type": "stream",
     "text": [
      "(3, 3)\n",
      "(5, 5)\n",
      "[[ 0.  0.  0.]\n",
      " [ 0.  0.  0.]\n",
      " [ 0.  0.  0.]]\n",
      "[[ 0.  0.  0.  0.  0.]\n",
      " [ 0.  0.  0.  0.  0.]\n",
      " [ 0.  0.  0.  0.  0.]\n",
      " [ 0.  0.  0.  0.  0.]\n",
      " [ 0.  0.  0.  0.  0.]]\n"
     ]
    }
   ],
   "source": [
    "## the multiplicative method\n",
    "\n",
    "# specify sizes\n",
    "m = 5\n",
    "n = 3\n",
    "\n",
    "# create matrices\n",
    "A   = np.random.randn(m,n)\n",
    "AtA = np.matrix.transpose(A)@A\n",
    "AAt = A@np.matrix.transpose(A)\n",
    "\n",
    "# first, show that they are square\n",
    "print( AtA.shape )\n",
    "print( AAt.shape )\n",
    "\n",
    "\n",
    "# next, show that they are symmetric\n",
    "print( AtA - np.matrix.transpose(AtA) )\n",
    "print( AAt - np.matrix.transpose(AAt) )\n",
    "\n"
   ]
  },
  {
   "cell_type": "markdown",
   "metadata": {},
   "source": [
    "\n",
    "---\n",
    "# VIDEO: Element-wise (Hadamard) multiplication\n",
    "---\n"
   ]
  },
  {
   "cell_type": "code",
   "execution_count": 100,
   "metadata": {},
   "outputs": [
    {
     "name": "stdout",
     "output_type": "stream",
     "text": [
      "[[ -7.66323146e-01  -8.25906929e-02]\n",
      " [ -3.90966578e-02   3.55398187e-01]\n",
      " [  2.56140438e-01   8.10723166e-02]\n",
      " [ -3.34874260e+00  -1.01767138e+00]\n",
      " [  1.10493988e+00   1.31099017e-01]\n",
      " [ -2.04041307e+00  -1.72216741e+00]\n",
      " [ -3.82003034e-02   6.25393221e-01]\n",
      " [ -5.75491697e-01   1.34932994e+00]\n",
      " [  1.06584279e+00  -6.19962559e-01]\n",
      " [ -3.27215150e-01   4.13362140e-02]\n",
      " [  1.86198252e-01  -1.57051310e-01]\n",
      " [ -1.91929460e-03   2.33527471e-01]\n",
      " [ -1.95764360e-01   1.84572276e-01]]\n"
     ]
    }
   ],
   "source": [
    "# any matrix sizes\n",
    "m = 13\n",
    "n =  2\n",
    "\n",
    "# ...but the two matrices must be the same size\n",
    "A = np.random.randn(m,n)\n",
    "B = np.random.randn(m,n)\n",
    "\n",
    "# note the different syntax compared to @ for matrix multiplication\n",
    "C = np.multiply( A,B )\n",
    "\n",
    "print(C)\n"
   ]
  },
  {
   "cell_type": "code",
   "execution_count": 228,
   "metadata": {},
   "outputs": [],
   "source": [
    "m = 3\n",
    "A = np.random.randn(m,m)\n",
    "B = np.random.randn(m,m)\n",
    "\n",
    "AtA = np.matrix.transpose(A)@A\n",
    "BtB = np.matrix.transpose(B)@B\n",
    "\n",
    "Cs = AtA + BtB\n",
    "Cm = AtA @ BtB\n",
    "Ch = np.multiply( AtA,BtB )"
   ]
  },
  {
   "cell_type": "code",
   "execution_count": 233,
   "metadata": {},
   "outputs": [
    {
     "data": {
      "text/plain": [
       "array([[0., 0., 0.],\n",
       "       [0., 0., 0.],\n",
       "       [0., 0., 0.]])"
      ]
     },
     "execution_count": 233,
     "metadata": {},
     "output_type": "execute_result"
    }
   ],
   "source": [
    "Cs - Cs.transpose()"
   ]
  },
  {
   "cell_type": "code",
   "execution_count": 232,
   "metadata": {},
   "outputs": [
    {
     "data": {
      "text/plain": [
       "array([[ 0.        ,  6.03035914, -3.14100115],\n",
       "       [-6.03035914,  0.        ,  6.86178245],\n",
       "       [ 3.14100115, -6.86178245,  0.        ]])"
      ]
     },
     "execution_count": 232,
     "metadata": {},
     "output_type": "execute_result"
    }
   ],
   "source": [
    "Cm - Cm.transpose()"
   ]
  },
  {
   "cell_type": "code",
   "execution_count": 231,
   "metadata": {},
   "outputs": [
    {
     "data": {
      "text/plain": [
       "array([[0., 0., 0.],\n",
       "       [0., 0., 0.],\n",
       "       [0., 0., 0.]])"
      ]
     },
     "execution_count": 231,
     "metadata": {},
     "output_type": "execute_result"
    }
   ],
   "source": [
    "Ch - Ch.transpose()"
   ]
  },
  {
   "cell_type": "markdown",
   "metadata": {},
   "source": [
    "\n",
    "---\n",
    "# VIDEO: Multiplication of two symmetric matrices\n",
    "---\n"
   ]
  },
  {
   "cell_type": "code",
   "execution_count": 40,
   "metadata": {},
   "outputs": [
    {
     "name": "stdout",
     "output_type": "stream",
     "text": [
      "Matrix([[0, 0, 0, 0], [0, 0, 0, 0], [0, 0, 0, 0], [0, 0, 0, 0]])\n",
      "Matrix([[0, 0, 0, 0], [0, 0, 0, 0], [0, 0, 0, 0], [0, 0, 0, 0]])\n",
      "a\n",
      "a\n",
      "a\n",
      "a\n",
      "l\n",
      "l\n",
      "l\n",
      "l\n"
     ]
    }
   ],
   "source": [
    "# using the sympy library\n",
    "from sympy import *\n",
    "\n",
    "a,b,c,d,e,f,g,h,k,l,m,n,o,p,q,r,s,t,u = symbols('a b c d e f g h k l m n o p q r s t u', real=True)\n",
    "\n",
    "# symmetric and constant-diagonal matrices\n",
    "A = Matrix([ [a,b,c,d],\n",
    "             [b,a,e,f],\n",
    "             [c,e,a,h],\n",
    "             [d,f,h,a]   ])\n",
    "\n",
    "B = Matrix([ [l,m,n,o],\n",
    "             [m,l,q,r],\n",
    "             [n,q,l,t],\n",
    "             [o,r,t,l]   ])\n",
    "\n",
    "\n",
    "# confirmation that A and B are symmetric\n",
    "print( A - A.transpose() )\n",
    "print( B - B.transpose() )\n",
    "\n",
    "# ... and constant diagonal\n",
    "for i in range(0,np.size(A,0)):\n",
    "    print( A[i,i] )\n",
    "for i in range(0,np.size(B,0)):\n",
    "    print( B[i,i] )\n"
   ]
  },
  {
   "cell_type": "code",
   "execution_count": 56,
   "metadata": {},
   "outputs": [
    {
     "data": {
      "text/plain": [
       "Matrix([\n",
       "[         0,  c*q - e*n, b*q - e*m],\n",
       "[-c*q + e*n,          0, b*n - c*m],\n",
       "[-b*q + e*m, -b*n + c*m,         0]])"
      ]
     },
     "execution_count": 56,
     "metadata": {},
     "output_type": "execute_result"
    }
   ],
   "source": [
    "\n",
    "# but AB neq (AB)'\n",
    "A@B - (A@B).T\n",
    "\n",
    "# maybe for a submatrix?\n",
    "n = 3\n",
    "A1 = A[ 0:n,0:n ]\n",
    "B1 = B[ 0:n,0:n ]\n",
    "\n",
    "A1@B1 - (A1*B1).T"
   ]
  },
  {
   "cell_type": "code",
   "execution_count": 262,
   "metadata": {},
   "outputs": [
    {
     "name": "stdout",
     "output_type": "stream",
     "text": [
      "[[2.04058127e+00 6.23115511e-01 3.11513535e-01 1.02274651e+00]\n",
      " [4.50714803e-01 7.50028212e-01 1.18102015e+00 4.52726955e-01]\n",
      " [1.75969571e-01 6.54767338e-01 1.06077050e-01 2.49096393e+00]\n",
      " [2.11587568e-01 1.85055515e+00 6.78407736e-01 1.86498918e-03]]\n",
      "[[ 2.04058127e+00  5.29950361e-01 -2.34130099e-01 -4.65188615e-01]\n",
      " [ 5.29950361e-01  7.50028212e-01  8.79371036e-01  9.15312077e-01]\n",
      " [-2.34130099e-01  8.79371036e-01  1.06077050e-01  1.29995738e+00]\n",
      " [-4.65188615e-01  9.15312077e-01  1.29995738e+00  1.86498918e-03]]\n"
     ]
    }
   ],
   "source": [
    "# Create 2 matrices (4x4), full and diagonal\n",
    "A = np.random.randn(4, 4)\n",
    "D = np.diag(np.random.randn(4))\n",
    "\n",
    "# multiply it by itself, standard and hadamard multiplications\n",
    "# Dot product\n",
    "#print(A@A)\n",
    "#print(A.transpose()@A)\n",
    "#print(np.matmul(A, A))\n",
    "#print(np.matmul(A.transpose(), A))\n",
    "\n",
    "# Element-wise multiplication\n",
    "print(np.multiply(A, A))\n",
    "print(np.multiply(A.transpose(), A))"
   ]
  },
  {
   "cell_type": "code",
   "execution_count": 263,
   "metadata": {},
   "outputs": [
    {
     "name": "stdout",
     "output_type": "stream",
     "text": [
      "[[0.69733106 0.         0.         0.        ]\n",
      " [0.         3.24013949 0.         0.        ]\n",
      " [0.         0.         0.09634454 0.        ]\n",
      " [0.         0.         0.         0.21292941]]\n",
      "[[0.69733106 0.         0.         0.        ]\n",
      " [0.         3.24013949 0.         0.        ]\n",
      " [0.         0.         0.09634454 0.        ]\n",
      " [0.         0.         0.         0.21292941]]\n"
     ]
    }
   ],
   "source": [
    "print(np.multiply(D, D))\n",
    "print(np.multiply(D.transpose(), D))"
   ]
  },
  {
   "cell_type": "code",
   "execution_count": 299,
   "metadata": {},
   "outputs": [],
   "source": [
    "# Fourier matrix\n",
    "n = 52\n",
    "F = np.zeros([n, n], dtype=complex)"
   ]
  },
  {
   "cell_type": "code",
   "execution_count": 300,
   "metadata": {},
   "outputs": [
    {
     "data": {
      "text/plain": [
       "array([[0.+0.j, 0.+0.j, 0.+0.j, ..., 0.+0.j, 0.+0.j, 0.+0.j],\n",
       "       [0.+0.j, 0.+0.j, 0.+0.j, ..., 0.+0.j, 0.+0.j, 0.+0.j],\n",
       "       [0.+0.j, 0.+0.j, 0.+0.j, ..., 0.+0.j, 0.+0.j, 0.+0.j],\n",
       "       ...,\n",
       "       [0.+0.j, 0.+0.j, 0.+0.j, ..., 0.+0.j, 0.+0.j, 0.+0.j],\n",
       "       [0.+0.j, 0.+0.j, 0.+0.j, ..., 0.+0.j, 0.+0.j, 0.+0.j],\n",
       "       [0.+0.j, 0.+0.j, 0.+0.j, ..., 0.+0.j, 0.+0.j, 0.+0.j]])"
      ]
     },
     "execution_count": 300,
     "metadata": {},
     "output_type": "execute_result"
    }
   ],
   "source": [
    "F"
   ]
  },
  {
   "cell_type": "code",
   "execution_count": 301,
   "metadata": {},
   "outputs": [
    {
     "data": {
      "text/plain": [
       "0j"
      ]
     },
     "execution_count": 301,
     "metadata": {},
     "output_type": "execute_result"
    }
   ],
   "source": [
    "F[0,0]"
   ]
  },
  {
   "cell_type": "code",
   "execution_count": 304,
   "metadata": {},
   "outputs": [],
   "source": [
    "#omega\n",
    "w= np.e ** (-2*np.pi*1j/n)\n",
    "for j in range(n):\n",
    "    for k in range(n):\n",
    "        m = j*k\n",
    "        F[j, k] = w**m"
   ]
  },
  {
   "cell_type": "code",
   "execution_count": 306,
   "metadata": {},
   "outputs": [
    {
     "data": {
      "image/png": "[encoded data removed]",
      "text/plain": [
       "<Figure size 432x288 with 1 Axes>"
      ]
     },
     "metadata": {
      "needs_background": "light"
     },
     "output_type": "display_data"
    },
    {
     "name": "stdout",
     "output_type": "stream",
     "text": [
      "X1 == X2: True\n"
     ]
    },
    {
     "data": {
      "image/png": "[encoded data removed]",
      "text/plain": [
       "<Figure size 432x288 with 1 Axes>"
      ]
     },
     "metadata": {
      "needs_background": "light"
     },
     "output_type": "display_data"
    },
    {
     "data": {
      "image/png": "[encoded data removed]",
      "text/plain": [
       "<Figure size 432x288 with 1 Axes>"
      ]
     },
     "metadata": {
      "needs_background": "light"
     },
     "output_type": "display_data"
    }
   ],
   "source": [
    "plt.imshow(F.real, cmap='jet')\n",
    "plt.show()\n",
    "# plt.imshow(abs(F))\n",
    "# plt.colorbar()\n",
    "# plt.show()\n",
    "      \n",
    "x = np.random.randn(n)\n",
    " \n",
    "X1 = F@x\n",
    "X2 = np.fft.fft(x)\n",
    "print(f'X1 == X2: {np.allclose(X1, X2)}')\n",
    " \n",
    "# plot them\n",
    "plt.figure()\n",
    "plt.plot(abs(X1))\n",
    "plt.plot(abs(X2), marker='o', color='r', linestyle='None')\n",
    "plt.show()\n",
    "plt.plot(F.real[:,25])\n",
    "plt.show()"
   ]
  },
  {
   "cell_type": "markdown",
   "metadata": {},
   "source": [
    "\n",
    "---\n",
    "# VIDEO: Frobenius dot-product\n",
    "---\n"
   ]
  },
  {
   "cell_type": "code",
   "execution_count": null,
   "metadata": {},
   "outputs": [],
   "source": []
  },
  {
   "cell_type": "code",
   "execution_count": 2,
   "metadata": {
    "scrolled": true
   },
   "outputs": [
    {
     "name": "stdout",
     "output_type": "stream",
     "text": [
      "-0.14464283250207544\n",
      "-0.14464283250207607\n",
      "6.001639307617599\n",
      "6.001639307617599\n"
     ]
    }
   ],
   "source": [
    "# any matrix sizes\n",
    "m = 9\n",
    "n = 4\n",
    "\n",
    "# but the two matrices must be the same size\n",
    "A = np.random.randn(m,n)\n",
    "B = np.random.randn(m,n)\n",
    "\n",
    "# first vectorize, then vector-dot-product\n",
    "Av = np.reshape( A,m*n, order='F' ) # order='F' reshapes by columns instead of by rows\n",
    "Bv = np.reshape( B,m*n, order='F' )\n",
    "frob_dp = np.dot( Av,Bv )\n",
    "\n",
    "# trace method\n",
    "frob_dp2 = np.trace( np.matrix.transpose(A)@B )\n",
    "print(frob_dp2)\n",
    "print(frob_dp)\n",
    "\n",
    "# matrix norm\n",
    "Anorm  = np.linalg.norm(A,'fro')\n",
    "Anorm2 = np.sqrt( np.trace( np.matrix.transpose(A)@A ) )\n",
    "print(Anorm)\n",
    "print(Anorm2)"
   ]
  },
  {
   "cell_type": "markdown",
   "metadata": {},
   "source": [
    "# VIDEO: Matrix norms"
   ]
  },
  {
   "cell_type": "code",
   "execution_count": 307,
   "metadata": {},
   "outputs": [
    {
     "name": "stdout",
     "output_type": "stream",
     "text": [
      "2.2360679774997902 1.0000000000000004 5.0\n"
     ]
    }
   ],
   "source": [
    "# Create a matrix\n",
    "A = np.array([ [1,2,3], [4,5,6], [7,7,9] ])\n",
    "# optional orthogonal matrix to show that 2-norm is 1\n",
    "Q,R = np.linalg.qr(np.random.randn(5,5))\n",
    "#A = Q\n",
    "\n",
    "# Frobenius norm\n",
    "normFrob = np.linalg.norm(A,'fro')\n",
    "\n",
    "# induced 2-norm\n",
    "normInd2 = np.linalg.norm(A,2)\n",
    "# note: computed as below\n",
    "lamb = np.sqrt( np.max(np.linalg.eig(A.T@A)[0]) )\n",
    "\n",
    "# schatten p-norm\n",
    "p = 1\n",
    "s = np.linalg.svd(A)[1] # get singular values\n",
    "normSchat = np.sum(s**p)**(1/p)\n",
    "\n",
    "\n",
    "# % show all norms for comparison\n",
    "print(normFrob,normInd2,normSchat)"
   ]
  },
  {
   "cell_type": "code",
   "execution_count": 315,
   "metadata": {},
   "outputs": [
    {
     "name": "stdout",
     "output_type": "stream",
     "text": [
      "          0         1         2         3         4\n",
      "0 -0.060204  0.909461  0.250422  0.052476 -0.322167\n",
      "1 -0.341362 -0.391446  0.423920 -0.122857 -0.731738\n",
      "2 -0.374305 -0.030765 -0.355526  0.841521 -0.156183\n",
      "3 -0.854645  0.114253 -0.119991 -0.365518  0.329434\n",
      "4 -0.096566 -0.075171  0.785356  0.374689  0.477335\n",
      "          0         1         2         3         4\n",
      "0  1.402519 -0.033157 -0.388917 -0.023870 -2.037418\n",
      "1  0.000000 -2.156440  1.744826 -0.662794  0.978621\n",
      "2  0.000000  0.000000  1.297966 -0.707207  0.719037\n",
      "3  0.000000  0.000000  0.000000 -2.412596 -0.584632\n",
      "4  0.000000  0.000000  0.000000  0.000000 -1.124213\n"
     ]
    }
   ],
   "source": [
    "import pandas as pd\n",
    "print(pd.DataFrame(Q))\n",
    "print(pd.DataFrame(R))"
   ]
  },
  {
   "cell_type": "code",
   "execution_count": 311,
   "metadata": {},
   "outputs": [
    {
     "data": {
      "text/plain": [
       "0.3736842105263158"
      ]
     },
     "execution_count": 311,
     "metadata": {},
     "output_type": "execute_result"
    }
   ],
   "source": [
    "71/190"
   ]
  },
  {
   "cell_type": "code",
   "execution_count": null,
   "metadata": {},
   "outputs": [],
   "source": []
  }
 ],
 "metadata": {
  "kernelspec": {
   "display_name": "Python 3",
   "language": "python",
   "name": "python3"
  },
  "language_info": {
   "codemirror_mode": {
    "name": "ipython",
    "version": 3
   },
   "file_extension": ".py",
   "mimetype": "text/x-python",
   "name": "python",
   "nbconvert_exporter": "python",
   "pygments_lexer": "ipython3",
   "version": "3.7.6"
  }
 },
 "nbformat": 4,
 "nbformat_minor": 2
}
