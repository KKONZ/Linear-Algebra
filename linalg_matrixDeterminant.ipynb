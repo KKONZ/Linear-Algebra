{
 "cells": [
  {
   "cell_type": "code",
   "execution_count": 45,
   "metadata": {},
   "outputs": [],
   "source": [
    "import numpy as np\n",
    "import pandas as pd\n",
    "from matplotlib import pyplot as plt"
   ]
  },
  {
   "cell_type": "markdown",
   "metadata": {},
   "source": [
    "# Test that a reduced rank (singular matrix) has a determinant of 0"
   ]
  },
  {
   "cell_type": "code",
   "execution_count": 14,
   "metadata": {},
   "outputs": [
    {
     "name": "stdout",
     "output_type": "stream",
     "text": [
      "determinant of 2x2 linear dependent matrix:\n",
      " 0.0\n",
      "linear dependent 2x2 matrix rank:\n",
      " 1\n",
      "determinant of non-linear dependant 2x2 mat:\n",
      " -0.7871327148270088\n",
      "rank of non-linear dependant 2x2 mat:\n",
      " 2\n",
      "determinant of linear dependant 2x2 mat:\n",
      " 0.0\n",
      "rank of linear dependant 2x2 mat:\n",
      " 1\n",
      "determinant of non-linear dependant 50x50 mat:\n",
      " -1.1821460321716026e+31\n",
      "rank of non-linear dependant 50x50 mat:\n",
      " 50\n",
      "determinant of linear dependant 50x50 mat:\n",
      " 1310992968432169.8\n",
      "det of linear dependant should be 0\n",
      "is difficult to show in large matrices\n",
      "use \"cond\" instead of \"det\" for matrix singularity\n",
      "\n",
      "rank of linear dependant 50x50 mat:\n",
      " 49\n"
     ]
    }
   ],
   "source": [
    "# generate a 2x2 matrix of integers of linear dependencies\n",
    "A = np.array([[1, 3],[1, 3]])\n",
    "\n",
    "print(f'determinant of 2x2 linear dependent matrix:\\n',\n",
    "      np.linalg.det(A))\n",
    "# compute the rank\n",
    "print(f'linear dependent 2x2 matrix rank:\\n',\n",
    "      np.linalg.matrix_rank(A))\n",
    "\n",
    "m = 2\n",
    "A2 = np.random.randn(m,m)\n",
    "print(f'determinant of non-linear dependant 2x2 mat:\\n',\n",
    "      np.linalg.det(A2))\n",
    "print(f'rank of non-linear dependant 2x2 mat:\\n',\n",
    "      np.linalg.matrix_rank(A2))\n",
    "\n",
    "A2[:,0] = A2[:,1]\n",
    "\n",
    "print(f'determinant of linear dependant 2x2 mat:\\n',\n",
    "      np.linalg.det(A2))\n",
    "print(f'rank of linear dependant 2x2 mat:\\n',\n",
    "      np.linalg.matrix_rank(A2))\n",
    "\n",
    "# generate sqaure matrices, impose linear dependencies\n",
    "\n",
    "# compute the rank\n",
    "\n",
    "\n",
    "B = np.random.randn(50, 50)\n",
    "print(f'determinant of non-linear dependant 50x50 mat:\\n',\n",
    "      np.linalg.det(B))\n",
    "print(f'rank of non-linear dependant 50x50 mat:\\n',\n",
    "      np.linalg.matrix_rank(B))\n",
    "B2 = B.copy()\n",
    "B2[:,0] = B2[:,1]\n",
    "\n",
    "print(f'determinant of linear dependant 50x50 mat:\\n',\n",
    "      np.linalg.det(B2))\n",
    "print('det of linear dependant should be 0\\n' +\n",
    "     'is difficult to show in large matrices\\n' +\n",
    "     'use \"cond\" instead of \"det\" for matrix singularity\\n')\n",
    "print(f'rank of linear dependant 50x50 mat:\\n',\n",
    "      np.linalg.matrix_rank(B2))\n"
   ]
  },
  {
   "cell_type": "markdown",
   "metadata": {},
   "source": [
    "# Large matrices and row exchange"
   ]
  },
  {
   "cell_type": "code",
   "execution_count": 29,
   "metadata": {},
   "outputs": [
    {
     "name": "stdout",
     "output_type": "stream",
     "text": [
      "non-swapped determinant:\n",
      " -36.61941504242879\n",
      "1 row swapped determinant:\n",
      " 36.61941504242879\n",
      "2 rows swapped determinant:\n",
      " -36.61941504242879\n"
     ]
    }
   ],
   "source": [
    "# generate 6x6 matrix and find determinant\n",
    "A = np.random.randn(6, 6)\n",
    "print('non-swapped determinant:\\n',\n",
    "     np.linalg.det(A))\n",
    "\n",
    "# swap one row ,det again\n",
    "\n",
    "A2 = A[[1, 0, 2, 3, 4, 5],:].copy()\n",
    "\n",
    "print('1 row swapped determinant:\\n',\n",
    "     np.linalg.det(A2))\n",
    "# swap two rows and det again\n",
    "A3 = A[[1, 0, 2, 4, 3, 5],:].copy()\n",
    "print('2 rows swapped determinant:\\n',\n",
    "     np.linalg.det(A3))"
   ]
  },
  {
   "cell_type": "markdown",
   "metadata": {},
   "source": [
    "# Determine the effects of shifting a matrix on the determinant"
   ]
  },
  {
   "cell_type": "code",
   "execution_count": 75,
   "metadata": {},
   "outputs": [],
   "source": [
    "# generate a square matrix 20x20\n",
    "\n",
    "# impose a linear dependence\n",
    "\n",
    "# shift the matrix 0->.1 times the identity matrix (lambda)\n",
    "\n",
    "# compute the abs(determinant) of the shifted matrix\n",
    "\n",
    "# repeat 1000 times, take the average abs(det)\n",
    "\n",
    "# plot of det as a function of lambda\n",
    "\n",
    "n = 20\n",
    "tmps = []\n",
    "\n",
    "# initialize the determinant vector\n",
    "dets = np.zeros((len(lambdas), 1))\n",
    "lambdas = np.linspace(0, .1, 30)\n",
    "for deti in range(len(lambdas)):\n",
    "    for i in range(1000):\n",
    "        M = np.random.randn(n,n)\n",
    "        M[:,0] = M[:,1]\n",
    "        tmp = np.abs(np.linalg.det(M + lambdas[deti] * np.eye(n,n)))\n",
    "        tmps = np.append(tmps, tmp)\n",
    "    dets[deti] = np.mean(tmps)"
   ]
  },
  {
   "cell_type": "code",
   "execution_count": 76,
   "metadata": {},
   "outputs": [
    {
     "data": {
      "text/plain": [
       "array([3.60558065e-08])"
      ]
     },
     "execution_count": 76,
     "metadata": {},
     "output_type": "execute_result"
    }
   ],
   "source": [
    "dets[0]"
   ]
  },
  {
   "cell_type": "code",
   "execution_count": 78,
   "metadata": {},
   "outputs": [
    {
     "data": {
      "text/plain": [
       "Text(0.5, 0, 'Fraction of identity matrix for shifting')"
      ]
     },
     "execution_count": 78,
     "metadata": {},
     "output_type": "execute_result"
    },
    {
     "data": {
      "image/png": "[encoded data removed]",
      "text/plain": [
       "<Figure size 432x288 with 1 Axes>"
      ]
     },
     "metadata": {
      "needs_background": "light"
     },
     "output_type": "display_data"
    }
   ],
   "source": [
    "plt.plot(lambdas, dets)\n",
    "plt.ylabel('determinant')\n",
    "plt.xlabel('Fraction of identity matrix for shifting')"
   ]
  },
  {
   "cell_type": "code",
   "execution_count": 79,
   "metadata": {},
   "outputs": [
    {
     "data": {
      "text/plain": [
       "array([[3.60558065e-08],\n",
       "       [3.35820433e+05],\n",
       "       [7.41796619e+05],\n",
       "       [1.08516729e+06],\n",
       "       [1.44238519e+06],\n",
       "       [1.80351408e+06],\n",
       "       [2.12940637e+06],\n",
       "       [2.43879243e+06],\n",
       "       [2.82558448e+06],\n",
       "       [3.23857704e+06],\n",
       "       [3.63136836e+06],\n",
       "       [3.98062432e+06],\n",
       "       [4.29477211e+06],\n",
       "       [4.67109621e+06],\n",
       "       [4.99547493e+06],\n",
       "       [5.38616519e+06],\n",
       "       [5.78120052e+06],\n",
       "       [6.11589122e+06],\n",
       "       [6.49895621e+06],\n",
       "       [6.80783881e+06],\n",
       "       [7.11915641e+06],\n",
       "       [7.48155548e+06],\n",
       "       [7.85445450e+06],\n",
       "       [8.23830576e+06],\n",
       "       [8.64424403e+06],\n",
       "       [8.97111371e+06],\n",
       "       [9.32497775e+06],\n",
       "       [9.72138847e+06],\n",
       "       [1.00804080e+07],\n",
       "       [1.04219807e+07]])"
      ]
     },
     "execution_count": 79,
     "metadata": {},
     "output_type": "execute_result"
    }
   ],
   "source": [
    "dets"
   ]
  },
  {
   "cell_type": "code",
   "execution_count": null,
   "metadata": {},
   "outputs": [],
   "source": []
  }
 ],
 "metadata": {
  "kernelspec": {
   "display_name": "Python 3",
   "language": "python",
   "name": "python3"
  },
  "language_info": {
   "codemirror_mode": {
    "name": "ipython",
    "version": 3
   },
   "file_extension": ".py",
   "mimetype": "text/x-python",
   "name": "python",
   "nbconvert_exporter": "python",
   "pygments_lexer": "ipython3",
   "version": "3.7.6"
  }
 },
 "nbformat": 4,
 "nbformat_minor": 4
}
